{
 "cells": [
  {
   "cell_type": "markdown",
   "metadata": {},
   "source": [
    "# 准备工作"
   ]
  },
  {
   "cell_type": "code",
   "execution_count": 1,
   "metadata": {
    "pycharm": {
     "name": "#%% python\n"
    }
   },
   "outputs": [
    {
     "name": "stdout",
     "output_type": "stream",
     "text": [
      "2020-01-12 22:40:56,473 INFO sqlalchemy.engine.base.Engine SELECT CAST('test plain returns' AS VARCHAR(60)) AS anon_1\n",
      "2020-01-12 22:40:56,474 INFO sqlalchemy.engine.base.Engine ()\n",
      "2020-01-12 22:40:56,475 INFO sqlalchemy.engine.base.Engine SELECT CAST('test unicode returns' AS VARCHAR(60)) AS anon_1\n",
      "2020-01-12 22:40:56,475 INFO sqlalchemy.engine.base.Engine ()\n",
      "2020-01-12 22:40:56,476 INFO sqlalchemy.engine.base.Engine PRAGMA main.table_info(\"users\")\n",
      "2020-01-12 22:40:56,476 INFO sqlalchemy.engine.base.Engine ()\n",
      "2020-01-12 22:40:56,478 INFO sqlalchemy.engine.base.Engine PRAGMA main.table_info(\"addresses\")\n",
      "2020-01-12 22:40:56,478 INFO sqlalchemy.engine.base.Engine ()\n",
      "2020-01-12 22:40:56,479 INFO sqlalchemy.engine.base.Engine \n",
      "DROP TABLE addresses\n",
      "2020-01-12 22:40:56,480 INFO sqlalchemy.engine.base.Engine ()\n",
      "2020-01-12 22:40:56,488 INFO sqlalchemy.engine.base.Engine COMMIT\n",
      "2020-01-12 22:40:56,490 INFO sqlalchemy.engine.base.Engine \n",
      "DROP TABLE users\n",
      "2020-01-12 22:40:56,491 INFO sqlalchemy.engine.base.Engine ()\n",
      "2020-01-12 22:40:56,497 INFO sqlalchemy.engine.base.Engine COMMIT\n",
      "2020-01-12 22:40:56,498 INFO sqlalchemy.engine.base.Engine PRAGMA main.table_info(\"users\")\n",
      "2020-01-12 22:40:56,498 INFO sqlalchemy.engine.base.Engine ()\n",
      "2020-01-12 22:40:56,499 INFO sqlalchemy.engine.base.Engine PRAGMA temp.table_info(\"users\")\n",
      "2020-01-12 22:40:56,500 INFO sqlalchemy.engine.base.Engine ()\n",
      "2020-01-12 22:40:56,500 INFO sqlalchemy.engine.base.Engine PRAGMA main.table_info(\"addresses\")\n",
      "2020-01-12 22:40:56,501 INFO sqlalchemy.engine.base.Engine ()\n",
      "2020-01-12 22:40:56,502 INFO sqlalchemy.engine.base.Engine PRAGMA temp.table_info(\"addresses\")\n",
      "2020-01-12 22:40:56,502 INFO sqlalchemy.engine.base.Engine ()\n",
      "2020-01-12 22:40:56,503 INFO sqlalchemy.engine.base.Engine \n",
      "CREATE TABLE users (\n",
      "\tid INTEGER NOT NULL, \n",
      "\tusername VARCHAR, \n",
      "\tPRIMARY KEY (id)\n",
      ")\n",
      "\n",
      "\n",
      "2020-01-12 22:40:56,504 INFO sqlalchemy.engine.base.Engine ()\n",
      "2020-01-12 22:40:56,513 INFO sqlalchemy.engine.base.Engine COMMIT\n",
      "2020-01-12 22:40:56,514 INFO sqlalchemy.engine.base.Engine \n",
      "CREATE TABLE addresses (\n",
      "\tid INTEGER NOT NULL, \n",
      "\tuser_id INTEGER, \n",
      "\tstreet VARCHAR, \n",
      "\tPRIMARY KEY (id), \n",
      "\tFOREIGN KEY(user_id) REFERENCES users (id)\n",
      ")\n",
      "\n",
      "\n",
      "2020-01-12 22:40:56,514 INFO sqlalchemy.engine.base.Engine ()\n",
      "2020-01-12 22:40:56,520 INFO sqlalchemy.engine.base.Engine COMMIT\n",
      "2020-01-12 22:40:56,525 INFO sqlalchemy.engine.base.Engine BEGIN (implicit)\n",
      "2020-01-12 22:40:56,526 INFO sqlalchemy.engine.base.Engine INSERT INTO users (username) VALUES (?)\n",
      "2020-01-12 22:40:56,527 INFO sqlalchemy.engine.base.Engine ('小明',)\n",
      "2020-01-12 22:40:56,528 INFO sqlalchemy.engine.base.Engine INSERT INTO users (username) VALUES (?)\n",
      "2020-01-12 22:40:56,528 INFO sqlalchemy.engine.base.Engine ('小红',)\n",
      "2020-01-12 22:40:56,529 INFO sqlalchemy.engine.base.Engine INSERT INTO addresses (user_id, street) VALUES (?, ?)\n",
      "2020-01-12 22:40:56,530 INFO sqlalchemy.engine.base.Engine (1, '皇后大道')\n",
      "2020-01-12 22:40:56,531 INFO sqlalchemy.engine.base.Engine INSERT INTO addresses (user_id, street) VALUES (?, ?)\n",
      "2020-01-12 22:40:56,531 INFO sqlalchemy.engine.base.Engine (2, '长安大道')\n",
      "2020-01-12 22:40:56,532 INFO sqlalchemy.engine.base.Engine COMMIT\n"
     ]
    }
   ],
   "source": [
    "from sqlalchemy import create_engine, Column, Integer, ForeignKey, String\n",
    "from sqlalchemy.ext.declarative import as_declarative\n",
    "from sqlalchemy.orm import relationship, sessionmaker\n",
    "\n",
    "engine = create_engine('sqlite:///:memory', echo=True)\n",
    "\n",
    "@as_declarative(bind=engine)\n",
    "class Base:\n",
    "    id = Column(Integer, primary_key=True)\n",
    "\n",
    "\n",
    "class User(Base):\n",
    "    __tablename__ = 'users'\n",
    "    \n",
    "    username = Column(String)\n",
    "\n",
    "    addresses = relationship('Address', lazy='select')\n",
    "\n",
    "\n",
    "class Address(Base):\n",
    "    __tablename__ = 'addresses'\n",
    "    \n",
    "    user_id = Column(Integer, ForeignKey('users.id'))\n",
    "    street = Column(String)\n",
    "    \n",
    "    user = relationship('User')\n",
    "\n",
    "\n",
    "Session = sessionmaker(bind=engine)\n",
    "session = Session()\n",
    "\n",
    "if __name__ == '__main__':\n",
    "    Base.metadata.drop_all()\n",
    "    Base.metadata.create_all()\n",
    "    \n",
    "    # 创建测试数据\n",
    "    user1 = User(username='小明')\n",
    "    user2 = User(username='小红')\n",
    "    address1 = Address(street='皇后大道')\n",
    "    address1.user = user1\n",
    "    address2 = Address(street='长安大道')\n",
    "    address2.user = user2\n",
    "    \n",
    "    address3 = Address(street='皇后大道')\n",
    "    address3.user = user1\n",
    "    address4 = Address(street='长安大道')\n",
    "    address4.user = user2\n",
    "\n",
    "    session.add(address1)\n",
    "    session.add(address2)\n",
    "    session.commit()\n",
    "\n"
   ]
  },
  {
   "cell_type": "markdown",
   "metadata": {},
   "source": [
    "# relationship的加载机制"
   ]
  },
  {
   "cell_type": "markdown",
   "metadata": {},
   "source": [
    "## lazyload\n",
    "lazyload的机制是对象查询出来以后, 不会主动去获取和它关联的对象, 而是在获取关联对象时才会去查询, 通过relationship.lazy='select'设置\n"
   ]
  },
  {
   "cell_type": "code",
   "execution_count": 7,
   "metadata": {},
   "outputs": [
    {
     "name": "stdout",
     "output_type": "stream",
     "text": [
      "2020-01-12 22:43:06,152 INFO sqlalchemy.engine.base.Engine SELECT users.id AS users_id, users.username AS users_username \n",
      "FROM users\n",
      "2020-01-12 22:43:06,153 INFO sqlalchemy.engine.base.Engine ()\n",
      "2020-01-12 22:43:06,154 INFO sqlalchemy.engine.base.Engine SELECT addresses.id AS addresses_id, addresses.user_id AS addresses_user_id, addresses.street AS addresses_street \n",
      "FROM addresses \n",
      "WHERE ? = addresses.user_id\n",
      "2020-01-12 22:43:06,155 INFO sqlalchemy.engine.base.Engine (1,)\n",
      "[<__main__.Address object at 0x7f9631f7b630>]\n",
      "2020-01-12 22:43:06,156 INFO sqlalchemy.engine.base.Engine SELECT addresses.id AS addresses_id, addresses.user_id AS addresses_user_id, addresses.street AS addresses_street \n",
      "FROM addresses \n",
      "WHERE ? = addresses.user_id\n",
      "2020-01-12 22:43:06,157 INFO sqlalchemy.engine.base.Engine (2,)\n",
      "[<__main__.Address object at 0x7f9631f7b6d8>]\n",
      "-------------------------------------\n",
      "2020-01-12 22:43:06,159 INFO sqlalchemy.engine.base.Engine SELECT addresses.id AS addresses_id, addresses.user_id AS addresses_user_id, addresses.street AS addresses_street \n",
      "FROM addresses\n",
      "2020-01-12 22:43:06,159 INFO sqlalchemy.engine.base.Engine ()\n",
      "2020-01-12 22:43:06,160 INFO sqlalchemy.engine.base.Engine SELECT users.id AS users_id, users.username AS users_username \n",
      "FROM users \n",
      "WHERE users.id = ?\n",
      "2020-01-12 22:43:06,161 INFO sqlalchemy.engine.base.Engine (1,)\n",
      "<__main__.User object at 0x7f964d2c09b0>\n",
      "2020-01-12 22:43:06,162 INFO sqlalchemy.engine.base.Engine SELECT users.id AS users_id, users.username AS users_username \n",
      "FROM users \n",
      "WHERE users.id = ?\n",
      "2020-01-12 22:43:06,163 INFO sqlalchemy.engine.base.Engine (2,)\n",
      "<__main__.User object at 0x7f9631fc52b0>\n"
     ]
    }
   ],
   "source": [
    "users = session.query(User).all()\n",
    "for user in users:\n",
    "    print(user.addresses)\n",
    "\n",
    "session.expire_all()\n",
    "\n",
    "print('-------------------------------------')\n",
    "    \n",
    "addresses = session.query(Address).all()\n",
    "for address in addresses:\n",
    "    print(address.user)\n",
    "    \n",
    "session.expire_all()"
   ]
  },
  {
   "cell_type": "markdown",
   "metadata": {},
   "source": [
    "现在有两个用户, 这里会执行三条sql, 第一条sql查询所有的user, \n",
    "\n",
    "在遍历user的过程中, 当尝试获取address时, 会查询对应的address.\n",
    "\n",
    "*select在数据量大的时候性能很差, 最好是在每次只查一条数据的时候使用.*\n",
    "\n",
    "假设user数量为n, 查询到所有的user和user对应的address, 需要执行n+1条sql.\n",
    "\n",
    "需要注意的时如果查询address时去获取user, 那么同一个user只会获取一次, 不会多次获取.\n",
    "\n",
    "这里的address有4条记录, 属于两个user, 这里就只额外查询了两次address对应的user"
   ]
  },
  {
   "cell_type": "markdown",
   "metadata": {},
   "source": [
    "## eagerload\n",
    "eagerload在获取对象时, 会将它所关联的对象也一并查询出来, eagerload有三种joined, subquery, selectin"
   ]
  },
  {
   "cell_type": "code",
   "execution_count": 3,
   "metadata": {},
   "outputs": [
    {
     "name": "stdout",
     "output_type": "stream",
     "text": [
      "2020-01-12 22:40:56,555 INFO sqlalchemy.engine.base.Engine SELECT users.id AS users_id, users.username AS users_username, addresses_1.id AS addresses_1_id, addresses_1.user_id AS addresses_1_user_id, addresses_1.street AS addresses_1_street \n",
      "FROM users LEFT OUTER JOIN addresses AS addresses_1 ON users.id = addresses_1.user_id\n",
      "2020-01-12 22:40:56,556 INFO sqlalchemy.engine.base.Engine ()\n",
      "------------------------joined load finished------------------------\n",
      "2020-01-12 22:40:56,558 INFO sqlalchemy.engine.base.Engine SELECT users.id AS users_id, users.username AS users_username \n",
      "FROM users\n",
      "2020-01-12 22:40:56,559 INFO sqlalchemy.engine.base.Engine ()\n",
      "2020-01-12 22:40:56,561 INFO sqlalchemy.engine.base.Engine SELECT addresses.id AS addresses_id, addresses.user_id AS addresses_user_id, addresses.street AS addresses_street, anon_1.users_id AS anon_1_users_id \n",
      "FROM (SELECT users.id AS users_id \n",
      "FROM users) AS anon_1 JOIN addresses ON anon_1.users_id = addresses.user_id ORDER BY anon_1.users_id\n",
      "2020-01-12 22:40:56,562 INFO sqlalchemy.engine.base.Engine ()\n",
      "------------------------subquery load finished------------------------\n",
      "2020-01-12 22:40:56,564 INFO sqlalchemy.engine.base.Engine SELECT users.id AS users_id, users.username AS users_username \n",
      "FROM users\n",
      "2020-01-12 22:40:56,564 INFO sqlalchemy.engine.base.Engine ()\n",
      "2020-01-12 22:40:56,566 INFO sqlalchemy.engine.base.Engine SELECT addresses.user_id AS addresses_user_id, addresses.id AS addresses_id, addresses.street AS addresses_street \n",
      "FROM addresses \n",
      "WHERE addresses.user_id IN (?, ?) ORDER BY addresses.user_id\n",
      "2020-01-12 22:40:56,566 INFO sqlalchemy.engine.base.Engine (1, 2)\n",
      "------------------------selectin load finished------------------------\n"
     ]
    }
   ],
   "source": [
    "from sqlalchemy.orm import joinedload, selectinload, subqueryload\n",
    "\n",
    "users = session.query(User).options(joinedload(User.addresses)).all()\n",
    "print('------------------------joined load finished------------------------')\n",
    "\n",
    "users = session.query(User).options(subqueryload(User.addresses)).all()\n",
    "print('------------------------subquery load finished------------------------')\n",
    "\n",
    "users = session.query(User).options(selectinload(User.addresses)).all()\n",
    "print('------------------------selectin load finished------------------------')\n",
    "\n",
    "session.expire_all()"
   ]
  },
  {
   "cell_type": "markdown",
   "metadata": {},
   "source": [
    "这里通过options来覆盖默认的lazy设置, 也可以在创建model的时候定义.\n",
    "\n",
    "这里可以看到获取到users的时候, 对于三种load方式, 都已经加载好了user对应的address\n",
    "\n",
    "- joinedload方式只执行了一条sql, 但是因为一个用户会有多个address, 所以需要对重复的记录作合并\n",
    "\n",
    "- subquery方式执行了两条sql, 第一条查询所有的user, 第二条通过构造子查询和address作join操作\n",
    "\n",
    "- selectin的方式于subquery类似, 区别在于第二条sql, 利用第一步获取的user id构造一个in查询\n",
    "\n",
    "需要注意的时selectin方式对id的数量有限制, 默认会分成500个作为一批, 分批去做查询"
   ]
  },
  {
   "cell_type": "markdown",
   "metadata": {},
   "source": [
    "一般来说, 如果是一对一的话, joined的方式最佳, 如果一对多的话使用selectin方式最好, 可以避免一次加载大量的数据. "
   ]
  },
  {
   "cell_type": "markdown",
   "metadata": {},
   "source": [
    "## noload\n",
    "顾名思义, 这是用来禁止加载关联的对象, 根据行为可以分为noload和raiseload"
   ]
  },
  {
   "cell_type": "code",
   "execution_count": 4,
   "metadata": {},
   "outputs": [
    {
     "name": "stdout",
     "output_type": "stream",
     "text": [
      "2020-01-12 22:40:56,574 INFO sqlalchemy.engine.base.Engine SELECT users.id AS users_id, users.username AS users_username \n",
      "FROM users\n",
      "2020-01-12 22:40:56,575 INFO sqlalchemy.engine.base.Engine ()\n",
      "[]\n",
      "[]\n",
      "------------------------noload finished------------------------\n",
      "2020-01-12 22:40:56,577 INFO sqlalchemy.engine.base.Engine SELECT users.id AS users_id, users.username AS users_username \n",
      "FROM users\n",
      "2020-01-12 22:40:56,577 INFO sqlalchemy.engine.base.Engine ()\n",
      "[]\n",
      "[]\n",
      "------------------------raiseload finished------------------------\n",
      "2020-01-12 22:40:56,578 INFO sqlalchemy.engine.base.Engine SELECT addresses.id AS addresses_id, addresses.user_id AS addresses_user_id, addresses.street AS addresses_street \n",
      "FROM addresses\n",
      "2020-01-12 22:40:56,579 INFO sqlalchemy.engine.base.Engine ()\n",
      "None\n",
      "None\n",
      "------------------------noload finished------------------------\n",
      "2020-01-12 22:40:56,580 INFO sqlalchemy.engine.base.Engine SELECT addresses.id AS addresses_id, addresses.user_id AS addresses_user_id, addresses.street AS addresses_street \n",
      "FROM addresses\n",
      "2020-01-12 22:40:56,581 INFO sqlalchemy.engine.base.Engine ()\n",
      "None\n",
      "None\n",
      "------------------------raiseload finished------------------------\n"
     ]
    }
   ],
   "source": [
    "from sqlalchemy.orm import raiseload, noload\n",
    "\n",
    "\n",
    "\n",
    "users = session.query(User).options(noload(User.addresses)).all()\n",
    "for user in users:\n",
    "    print(user.addresses)\n",
    "print('------------------------noload finished------------------------')\n",
    "\n",
    "users = session.query(User).options(raiseload(User.addresses)).all()\n",
    "for user in users:\n",
    "    print(user.addresses)\n",
    "print('------------------------raiseload finished------------------------')\n",
    "\n",
    "addresses = session.query(Address).options(noload(Address.user)).all()\n",
    "for address in addresses:\n",
    "    print(address.user)\n",
    "print('------------------------noload finished------------------------')\n",
    "\n",
    "addresses = session.query(Address).options(raiseload(Address.user)).all()\n",
    "for address in addresses:\n",
    "    print(address.user)\n",
    "print('------------------------raiseload finished------------------------')\n",
    "\n",
    "session.expire_all()"
   ]
  },
  {
   "cell_type": "markdown",
   "metadata": {},
   "source": [
    "raiseload使用options的方式时获取属性不会报错, 定义在model中的时候才会报错, 这时获取属性会返回空列表或者None, "
   ]
  }
 ],
 "metadata": {
  "kernelspec": {
   "display_name": "Python 3",
   "language": "python",
   "name": "python3"
  },
  "language_info": {
   "codemirror_mode": {
    "name": "ipython",
    "version": 3
   },
   "file_extension": ".py",
   "mimetype": "text/x-python",
   "name": "python",
   "nbconvert_exporter": "python",
   "pygments_lexer": "ipython3",
   "version": "3.6.9"
  },
  "pycharm": {
   "stem_cell": {
    "cell_type": "raw",
    "metadata": {
     "collapsed": false
    },
    "source": []
   }
  }
 },
 "nbformat": 4,
 "nbformat_minor": 2
}
