{
 "cells": [
  {
   "cell_type": "markdown",
   "metadata": {
    "pycharm": {
     "name": "#%% md\n"
    }
   },
   "source": [
    "python 中有三种I/O, 分别是text I/O, binary I/O, raw I/O,  \n",
    "属于任意一种类型所对应的的对象都叫做file object, 也叫做stream, file-like object.\n"
   ]
  },
  {
   "cell_type": "markdown",
   "metadata": {},
   "source": [
    "创建一个file object的通用方法是用open函数, 可以用来创建text I/O和binary I/O.  \n",
    "open函数的参数mode代表对文件操作的类型, 按照文件内容有二进制和纯文本,  \n",
    "按照操作类型可以分为以下几种, 摘自官方文档\n",
    "\n",
    "- 'r'    open for reading (default)  \n",
    "- 'w'    open for writing, truncating the file first  \n",
    "- 'x'    create a new file and open it for writing  \n",
    "- 'a'    open for writing, appending to the end of the file if it exists  \n",
    "- 'b'    binary mode  \n",
    "- 't'    text mode (default)  \n",
    "- '+'    open a disk file for updating (reading and writing)\n"
   ]
  },
  {
   "cell_type": "markdown",
   "metadata": {},
   "source": [
    "Text I/O\n",
    "==\n"
   ]
  },
  {
   "cell_type": "code",
   "execution_count": 34,
   "metadata": {},
   "outputs": [
    {
     "name": "stdout",
     "output_type": "stream",
     "text": [
      "Overwriting myfile.txt\n"
     ]
    }
   ],
   "source": [
    "%%writefile myfile.txt\n",
    "这是一个测试的文本文件\n",
    "hello can you hear me"
   ]
  },
  {
   "cell_type": "code",
   "execution_count": 8,
   "metadata": {
    "collapsed": false,
    "pycharm": {
     "is_executing": false,
     "name": "#%%\n"
    }
   },
   "outputs": [],
   "source": [
    "import io\n",
    "\n",
    "# create a text stream\n",
    "file1 = open('myfile.txt', 'r', encoding='utf8')\n",
    "\n",
    "# create a in memory text stream\n",
    "file2 = io.StringIO('texts stored in memory')\n",
    "\n",
    "assert isinstance(file1, io.TextIOBase)\n",
    "assert isinstance(file2, io.TextIOBase)\n"
   ]
  },
  {
   "cell_type": "markdown",
   "metadata": {
    "pycharm": {
     "name": "#%% md\n"
    }
   },
   "source": [
    "text stream对象的基类是TextIOBase, 我们重点关注以下几个方法\n",
    "\n",
    "- read(size=-1)\n",
    "按照size读取文本内容, 到达文件末尾时停止, size为负数或None时读取全部内容\n",
    "\n",
    "- readline(size=-1)\n",
    "按照size读取文本内容, 遇到换行符时或到达文件末尾时停止,   \n",
    "size为负数或None或者读取一行全部内容, 如果已经在文件末尾, 返回空字符串\n",
    "\n",
    "- seek(offset, whence=SEEK_SET)\n",
    "改变文件指针的位置, 默认从0开始移动, offset是移动的偏移量, offest是指字节的大小, 一个中文字符是三个字节.  \n",
    "whence可以是0, 1, 2代表从开始位置, 当前位置, 结束位置, 只有whence=0的时候, offset才可以有0以外的值\n",
    "\n",
    "- tell()\n",
    "返回当前的文件指针位置\n",
    "\n",
    "- write(s)\n",
    "写入文本\n"
   ]
  },
  {
   "cell_type": "code",
   "execution_count": 50,
   "metadata": {},
   "outputs": [
    {
     "name": "stdout",
     "output_type": "stream",
     "text": [
      "现在文件指针位置在0\n",
      "让我们从开始位置读10个字符: '这是一个测试的文本文'\n",
      "现在文件指针位置在30\n",
      "再从位置30开始向后读取5个字符: '件\n",
      "hel'\n",
      "现在文件指针位置在37\n",
      "最后从位置37读取一行, size为10: 'lo can you hear me\n",
      "'\n",
      "现在文件指针位置在56\n",
      "看看现在还剩下什么, ''\n"
     ]
    }
   ],
   "source": [
    "f = open('myfile.txt', 'r', encoding='utf8')\n",
    "print(\"现在文件指针位置在%d\" % f.tell())\n",
    "print(\"让我们从开始位置读%d个字符: '%s'\" % (10, f.read(10)))\n",
    "print(\"现在文件指针位置在%d\" % f.tell())\n",
    "print(\"再从位置%d开始向后读取%d个字符: '%s'\" % (f.tell(), 5, f.read(5)))\n",
    "print(\"现在文件指针位置在%d\" % f.tell())\n",
    "print(\"最后从位置%d读取一行, size为%d: '%s'\" % (f.tell(), 10, f.readline()))\n",
    "print(\"现在文件指针位置在%d\" % f.tell())\n",
    "print(\"看看现在还剩下什么: '%s'\" % f.read())\n",
    "f.close()"
   ]
  },
  {
   "cell_type": "markdown",
   "metadata": {},
   "source": [
    "通过上面的例子可以看出:\n",
    "- 每次使用f.read() 或者 f.readline() 之后文件的指针都会移动, 具体视size的大小而定\n",
    "- f.read()或者f.readline() 每次都是从文件指针的位置开始向后读取size大小的字符\n",
    "- f.read(size) size指的是字符的大小, 而不是每个字所占的字节的大小\n",
    "- f.tell() 返回的位置是按照字节大小来计算的, 一个中文占三个字节, 一个字母占一个字节\n",
    "- 换行符也算一个字符, readline和read 返回的行文本包含了行尾的换行符\n",
    "- 因为文件指针一直在移动, 所以无法再读取已经读取过的内容, 除非手动移动指针的位置\n",
    "\n",
    "下面来试试seek方法"
   ]
  },
  {
   "cell_type": "code",
   "execution_count": 61,
   "metadata": {},
   "outputs": [
    {
     "name": "stdout",
     "output_type": "stream",
     "text": [
      "b'\\xe8\\xbf\\x99'\n",
      "现在文件指针位置在3\n",
      "现在文件指针位置在0\n",
      "现在文件指针位置在1\n",
      "编码错误\n"
     ]
    }
   ],
   "source": [
    "f = open('myfile.txt', 'r', encoding='utf8')\n",
    "print(f.read(1).encode('utf8'))\n",
    "print(\"现在文件指针位置在%d\" % f.tell())\n",
    "\n",
    "f.seek(0)\n",
    "print(\"现在文件指针位置在%d\" % f.tell())\n",
    "\n",
    "f.seek(1)\n",
    "print(\"现在文件指针位置在%d\" % f.tell())\n",
    "try:\n",
    "    f.read(1)\n",
    "except UnicodeDecodeError:\n",
    "    print(\"编码错误\")"
   ]
  },
  {
   "cell_type": "markdown",
   "metadata": {},
   "source": [
    "前面说过f.tell()返回的位置是按照字节大小来计数, f.seek()也是按照字节数来移动文件指针,\n",
    "而如果文本中有字符的字节数不为1的话, f.seek()可能会移动到某个字符的中间位置, 这时就会无法识别当前是什么字符, \n",
    "这个例子中最后的f.seek(1) 之后指针所在位置的字节是\\xbf, 无法与后续的字节构成一个合法的字符, 抛出UnicodeDecodeError."
   ]
  },
  {
   "cell_type": "markdown",
   "metadata": {},
   "source": [
    "读完本文, 希望你能够回答以下问题.\n",
    "\n",
    "1. 如何优雅的读写文件\n",
    "    - 如何追加内容到文件的开始\n",
    "    - 如何追加内容到文件的指定行\n",
    "2. 如何优化读写速度\n",
    "    - 操作文件指针\n",
    "    - 使用进程/线程锁确保数据一致性"
   ]
  }
 ],
 "metadata": {
  "kernelspec": {
   "display_name": "PyCharm (blurhead.github.io)",
   "language": "python",
   "name": "pycharm-175a4e5c"
  },
  "language_info": {
   "codemirror_mode": {
    "name": "ipython",
    "version": 3
   },
   "file_extension": ".py",
   "mimetype": "text/x-python",
   "name": "python",
   "nbconvert_exporter": "python",
   "pygments_lexer": "ipython3",
   "version": "3.6.6"
  },
  "pycharm": {
   "stem_cell": {
    "cell_type": "raw",
    "metadata": {
     "collapsed": false
    },
    "source": []
   }
  }
 },
 "nbformat": 4,
 "nbformat_minor": 2
}
