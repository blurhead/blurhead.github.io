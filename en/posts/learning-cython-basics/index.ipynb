{
 "cells": [
  {
   "cell_type": "markdown",
   "source": [
    "# 在jupyter notebook中学习cython"
   ],
   "metadata": {
    "pycharm": {
     "metadata": false
    }
   }
  },
  {
   "cell_type": "markdown",
   "metadata": {
    "pycharm": {}
   },
   "source": [
    "## 首先导入cython"
   ]
  },
  {
   "cell_type": "code",
   "execution_count": 1,
   "metadata": {
    "pycharm": {
     "is_executing": false
    }
   },
   "outputs": [],
   "source": [
    "%load_ext Cython"
   ]
  },
  {
   "cell_type": "code",
   "execution_count": 1,
   "metadata": {
    "pycharm": {
     "is_executing": false
    }
   },
   "outputs": [
    {
     "name": "stderr",
     "text": [
      "UsageError: Cell magic `%%cython` not found.\n"
     ],
     "output_type": "stream"
    }
   ],
   "source": [
    "%%cython\n",
    "# distutils: language=c \n",
    "\n",
    "def test(short test, char arg[]):\n",
    "    return test, arg\n",
    "\n",
    "print(test(1.1, b'ab'))\n"
   ]
  },
  {
   "cell_type": "code",
   "execution_count": 8,
   "outputs": [],
   "source": "%%cython\n# distutils: language=c\ncdef test(short test):\n    for i in range(10):\n        test = test + i\n    return test\n    \nprint(test(12))\n\n",
   "metadata": {
    "pycharm": {
     "metadata": false,
     "name": "#%%\n",
     "is_executing": false
    }
   }
  }
 ],
 "metadata": {
  "kernelspec": {
   "name": "pycharm-175a4e5c",
   "language": "python",
   "display_name": "PyCharm (blurhead.github.io)"
  },
  "language_info": {
   "codemirror_mode": {
    "name": "ipython",
    "version": 3
   },
   "file_extension": ".py",
   "mimetype": "text/x-python",
   "name": "python",
   "nbconvert_exporter": "python",
   "pygments_lexer": "ipython3",
   "version": "3.6.6"
  },
  "stem_cell": {
   "cell_type": "raw",
   "source": "",
   "metadata": {
    "pycharm": {
     "metadata": false
    }
   }
  },
  "pycharm": {
   "stem_cell": {
    "cell_type": "raw",
    "source": [],
    "metadata": {
     "collapsed": false
    }
   }
  }
 },
 "nbformat": 4,
 "nbformat_minor": 2
}