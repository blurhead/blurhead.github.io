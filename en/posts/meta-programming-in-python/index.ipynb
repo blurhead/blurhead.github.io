{
 "cells": [
  {
   "cell_type": "markdown",
   "metadata": {
    "pycharm": {
     "name": "#%% md\n"
    }
   },
   "source": [
    "# Python元编程-入门\n"
   ]
  },
  {
   "cell_type": "markdown",
   "source": [
    "最近准备着手阅读sqlalchemy的源码，一个ORM框架离不开元编程，因此整理了一下python中元编程的相关知识。话不多说，下面进入正题。  \n",
    "P.S. 文中代码都是基于python3.6环境\n"
   ],
   "metadata": {
    "collapsed": false,
    "pycharm": {
     "name": "#%% md\n"
    }
   }
  },
  {
   "cell_type": "markdown",
   "source": [
    "## 基本概念\n"
   ],
   "metadata": {
    "collapsed": false,
    "pycharm": {
     "name": "#%% md\n"
    }
   }
  },
  {
   "cell_type": "markdown",
   "source": [
    "大家都知道python中的对象都是通过类的\\_\\_new\\_\\_方法创建，\\_\\_init\\_\\_方法进行初始化，  \n",
    "同时Python中一切皆对象， 类不用说也是一个对象，那么类又是如何创建的呢，这就引出了元类(metaclass)的概念。  \n",
    "我们使用type函数可以知道一个实例是通过哪个类实例化的，如果type的参数是一个类呢？\n"
   ],
   "metadata": {
    "collapsed": false,
    "pycharm": {
     "name": "#%% md\n"
    }
   }
  },
  {
   "cell_type": "code",
   "execution_count": 10,
   "outputs": [
    {
     "name": "stdout",
     "text": [
      "<class 'type'>\n"
     ],
     "output_type": "stream"
    }
   ],
   "source": [
    "# example 1.1\n",
    "print(type(object))\n",
    "# using instance to verify\n",
    "assert isinstance(object, type)\n"
   ],
   "metadata": {
    "collapsed": false,
    "pycharm": {
     "name": "#%% python \n",
     "is_executing": false
    }
   }
  },
  {
   "cell_type": "markdown",
   "source": [
    "这里可以看出object的类型是type，也就是说type创建了object类，这里的type就是一个元类。  \n",
    "元类就是创建类的类，类实例化会创建一个实例，类似的，元类实例化就会创建一个类。  \n",
    "\n",
    "__type是所有元类的基类，也是它自己的基类。__\n",
    "\n",
    "我们再来看一下__type__是如何创建类的。\n",
    "\n",
    "以下摘录自官方文档 https://docs.python.org/3.6/library/functions.html#type"
   ],
   "metadata": {
    "collapsed": false,
    "pycharm": {
     "name": "#%% md\n"
    }
   }
  },
  {
   "cell_type": "markdown",
   "source": [
    "class type(name, bases, dict)  \n",
    "With one argument, return the type of an object. The return value is a type object and generally the same object as returned by object.\\_\\_class\\_\\_.\n",
    "\n",
    "...\n",
    "\n",
    "With three arguments, return a new type object. This is essentially a dynamic form of the class statement. The name string is the class name and becomes the \\_\\_name\\_\\_ attribute; the bases tuple itemizes the base classes and becomes the \\_\\_bases\\_\\_ attribute; and the dict dictionary is the namespace containing definitions for class body and is copied to a standard dictionary to become the \\_\\_dict\\_\\_ attribute. For example, the following two statements create identical type objects:\n",
    "\n",
    "简单来说，如果参数是三个的时候，参数和生成的类的属性有如下对应关系\n",
    "- name  &ensp;-> \\_\\_name\\_\\_\n",
    "- bases -> \\_\\_bases\\_\\_\n",
    "- dict  &ensp;&ensp;&ensp;&ensp;-> \\_\\_dict\\_\\_\n"
   ],
   "metadata": {
    "collapsed": false,
    "pycharm": {
     "name": "#%% md\n"
    }
   }
  },
  {
   "cell_type": "code",
   "execution_count": 1,
   "outputs": [
    {
     "data": {
      "text/plain": "('MyObject',\n (object,),\n mappingproxy({'a': 1,\n               '__module__': '__main__',\n               '__dict__': <attribute '__dict__' of 'MyObject' objects>,\n               '__weakref__': <attribute '__weakref__' of 'MyObject' objects>,\n               '__doc__': None}))"
     },
     "metadata": {},
     "output_type": "execute_result",
     "execution_count": 1
    }
   ],
   "source": [
    "# example 1.2\n",
    "type('when using type with a single argument, it returns the class of argument')\n",
    "\n",
    "MyObject = type('MyObject', (object,), {'a': 1})\n",
    "assert isinstance(MyObject, type)\n",
    "MyObject.__name__, MyObject.__bases__, MyObject.__dict__\n"
   ],
   "metadata": {
    "collapsed": false,
    "pycharm": {
     "name": "#%% python\n",
     "is_executing": false
    }
   }
  },
  {
   "cell_type": "markdown",
   "source": [
    "## 元类的继承\n"
   ],
   "metadata": {
    "collapsed": false,
    "pycharm": {
     "name": "#%% md\n"
    }
   }
  },
  {
   "cell_type": "code",
   "execution_count": 19,
   "outputs": [
    {
     "name": "stdout",
     "text": [
      "I'm creating a class using metaclass Meta\nNow I got a class named MyObject\n1 <property object at 0x10e82f958>\nI'm initializing class MyObject in metaclass Meta\nMyObject (<class 'object'>,) {'__module__': '__main__', 'a': 1, '__new__': <staticmethod object at 0x10e82b320>, '__init__': <function MyObject.__init__ at 0x10e80c1e0>, 'name': <classmethod object at 0x10e82b240>, 'hello': <property object at 0x10e82f958>, '__dict__': <attribute '__dict__' of 'MyObject' objects>, '__weakref__': <attribute '__weakref__' of 'MyObject' objects>, '__doc__': None, 'b': 2}\nI got a method from metaclass\n"
     ],
     "output_type": "stream"
    },
    {
     "data": {
      "text/plain": "(1, 2, 1, None)"
     },
     "metadata": {},
     "output_type": "execute_result",
     "execution_count": 19
    }
   ],
   "source": [
    "# example 2.1\n",
    "\n",
    "# 创建一个元类\n",
    "class Meta(type):\n",
    "    c = 1\n",
    "    def __new__(mcs, *args, **kwargs):\n",
    "        print(\"I'm creating a class using metaclass {}\".format(mcs.__name__))\n",
    "        cls = super().__new__(mcs, *args, **kwargs)       \n",
    "        print('Now I got a class named {name}'.format(name=cls.__name__))\n",
    "        print(cls.a, cls.hello)\n",
    "        return cls\n",
    "    \n",
    "    def __init__(cls, *args, **kwargs):\n",
    "        print(\"I'm initializing class {} in metaclass {}\".format(\n",
    "            cls.__name__, type(cls).__name__))\n",
    "        super().__init__(*args, **kwargs)\n",
    "        cls.b = 2 # 给类绑定变量\n",
    "        print(cls.__name__, cls.__bases__, cls.__dict__)\n",
    "    \n",
    "    def assign_to_class(cls):\n",
    "        print('I got a method from metaclass')\n",
    "\n",
    "# 用定义的元类构造一个类\n",
    "class MyObject(object, metaclass=Meta):\n",
    "    a = 1\n",
    "    def __new__(cls, *args, **kwargs):\n",
    "        self = super().__new__(cls, *args, **kwargs)       \n",
    "        return self\n",
    "    \n",
    "    def __init__(self, *args, **kwargs):\n",
    "        super().__init__(*args, **kwargs)\n",
    "        \n",
    "    @classmethod\n",
    "    def name(cls):\n",
    "        return cls.__name__\n",
    "    \n",
    "    @property\n",
    "    def hello(self):\n",
    "        return 'hello'\n",
    "MyObject.a, MyObject.b, MyObject.c, MyObject.assign_to_class(), \n",
    "    \n"
   ],
   "metadata": {
    "collapsed": false,
    "pycharm": {
     "name": "#%% python\n",
     "is_executing": false
    }
   }
  },
  {
   "cell_type": "markdown",
   "source": [
    "通过以上示例可以看出，MyObject类生成的时候，先调用元类Meta的\\_\\_new\\_\\_，此时MyObject中的实例方法，类方法，类变量已经被绑定，然后是\\_\\_init\\_\\_，在元类的init方法中可以将类当做实例一样，可以给类绑定变量，方法等等。  \n",
    "MyObject是Meta的一个实例，因此像对象调用类定义的方法和属性一样，MyObject也可以调用Meta的属性和方法\n",
    "\n",
    "元类可以用来实现很多“黑魔法”，form表单验证，orm模型都可以用它来实现。因为元类拥有对类的生杀大权，所以很容易写出难以定位的bug，如果不是经验丰富的老司机，尽量要避免使用。\n"
   ],
   "metadata": {
    "collapsed": false,
    "pycharm": {
     "name": "#%% md\n"
    }
   }
  },
  {
   "cell_type": "markdown",
   "source": [
    "最后总结一下，元类是类的类，类是元类的实例，type函数是一切元类的基类，也是自己的基类。\n",
    "面向对象的本质就是给数据绑定方法，在python中完全可以不经过继承，直接通过type来创建类，同时为它绑定方法。\n",
    "\n",
    "后续在读sqlalchemy源码的过程中会继续深入讨论元编程的应用。\n"
   ],
   "metadata": {
    "collapsed": false,
    "pycharm": {
     "name": "#%% md\n"
    }
   }
  }
 ],
 "metadata": {
  "kernelspec": {
   "name": "pycharm-175a4e5c",
   "language": "python",
   "display_name": "PyCharm (blurhead.github.io)"
  },
  "pycharm": {
   "stem_cell": {
    "cell_type": "raw",
    "source": [],
    "metadata": {
     "collapsed": false
    }
   }
  }
 },
 "nbformat": 4,
 "nbformat_minor": 2
}